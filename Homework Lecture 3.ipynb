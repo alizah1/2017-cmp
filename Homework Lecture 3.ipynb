{
 "cells": [
  {
   "cell_type": "code",
   "execution_count": 57,
   "metadata": {},
   "outputs": [
    {
     "ename": "SyntaxError",
     "evalue": "invalid syntax (<ipython-input-57-24391ece8154>, line 11)",
     "output_type": "error",
     "traceback": [
      "\u001b[1;36m  File \u001b[1;32m\"<ipython-input-57-24391ece8154>\"\u001b[1;36m, line \u001b[1;32m11\u001b[0m\n\u001b[1;33m    x_A = (factorial((int(q_A)+int(N_A)-1)))/(factorial(int(q_A))*factorial(int(N_A)-1))\u001b[0m\n\u001b[1;37m      ^\u001b[0m\n\u001b[1;31mSyntaxError\u001b[0m\u001b[1;31m:\u001b[0m invalid syntax\n"
     ]
    }
   ],
   "source": [
    "#Houman Alizadeh\n",
    "#Lecture 3 Homework\n",
    "import matplotlib.ticker as mtick\n",
    "from sympy import *\n",
    "import matplotlib.pyplot as plt\n",
    "def Multiplicity():\n",
    "   # you can put 3000 and 2000 for N_A or N_B as well! \n",
    "    N_A = 300\n",
    "    N_B = 200\n",
    "    q_A = int(input(\"Choose the values of q_A: \")\n",
    "    x_A = (factorial((int(q_A)+int(N_A)-1)))/(factorial(int(q_A))*factorial(int(N_A)-1))\n",
    "    x_B = (factorial((int(100-q_A)+int(N_B)-1)))/(factorial(int(100-q_A))*factorial(int(N_B)-1))\n",
    "    return x_A * x_B\n",
    "    #This gives me the total omega\n",
    "def Plot_M(q_A):\n",
    "    #The function will vary as q_A changes\n",
    "    N_series = range(q_A+1) \n",
    "    Omega = []\n",
    "    for n in N_series:\n",
    "        Omega.append(Multiplicity())\n",
    "    \n",
    "    plt.plot(N_series, Omega)\n",
    "    plt.title('N='+str(q_A))\n",
    "    plt.xlabel('q_A')\n",
    "    plt.ylabel('$\\Omega(n)$')\n",
    "   # The only thing that I couldn't try was to put all of the values of q_A in series.\n",
    "    plt.show()\n",
    "Plot_M(20)\n",
    "# I couldn't figure out why it was giving me the invalid syntax for x_A. "
   ]
  },
  {
   "cell_type": "code",
   "execution_count": null,
   "metadata": {},
   "outputs": [],
   "source": []
  }
 ],
 "metadata": {
  "kernelspec": {
   "display_name": "Python 3",
   "language": "python",
   "name": "python3"
  },
  "language_info": {
   "codemirror_mode": {
    "name": "ipython",
    "version": 3
   },
   "file_extension": ".py",
   "mimetype": "text/x-python",
   "name": "python",
   "nbconvert_exporter": "python",
   "pygments_lexer": "ipython3",
   "version": "3.6.6"
  }
 },
 "nbformat": 4,
 "nbformat_minor": 2
}
