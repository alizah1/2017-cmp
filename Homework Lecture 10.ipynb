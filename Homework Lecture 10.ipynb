{
 "cells": [
  {
   "cell_type": "code",
   "execution_count": 1,
   "metadata": {},
   "outputs": [
    {
     "name": "stdout",
     "output_type": "stream",
     "text": [
      "The resutl with k=10 is:  0.8054108881060514\n",
      "The resutl with k=100 is:  0.770027632003617\n",
      "The resutl with k=1000 is:  0.7577996959086317\n",
      "The resutl with k=10000 is:  0.7600074554372576\n",
      "The resutl with k=100000 is:  0.7592491475247493\n",
      "The resutl with k=1000000 is:  0.7599024955916266\n"
     ]
    }
   ],
   "source": [
    "# Houman Alizadeh \n",
    "# Homework Lecture 10\n",
    "# Importance Sampling \n",
    "import numpy as np\n",
    "import random as rand\n",
    "from scipy import integrate\n",
    "\n",
    "Function_1 = lambda x: (x**(-1/2))/(np.exp(x)+1)\n",
    "\n",
    "Function_2 = lambda x: x**(-1/2)\n",
    "Integrate = integrate.quad(Function_2,0,1)[0]                     \n",
    "\n",
    "def Sum(k):\n",
    "    S = 0\n",
    "    for i in range(k):\n",
    "        x = rand.random()\n",
    "        S += Function_1(x)/Function_2(x)\n",
    "    Result = (S*Integrate)/k\n",
    "    return Result\n",
    "print(\"The resutl with k=10 is: \", Sum(10))\n",
    "print(\"The resutl with k=100 is: \", Sum(100))\n",
    "print(\"The resutl with k=1000 is: \", Sum(1000))\n",
    "print(\"The resutl with k=10000 is: \", Sum(10000))\n",
    "print(\"The resutl with k=100000 is: \", Sum(100000))\n",
    "print(\"The resutl with k=1000000 is: \", Sum(1000000))"
   ]
  },
  {
   "cell_type": "code",
   "execution_count": null,
   "metadata": {},
   "outputs": [],
   "source": []
  }
 ],
 "metadata": {
  "kernelspec": {
   "display_name": "Python 3",
   "language": "python",
   "name": "python3"
  },
  "language_info": {
   "codemirror_mode": {
    "name": "ipython",
    "version": 3
   },
   "file_extension": ".py",
   "mimetype": "text/x-python",
   "name": "python",
   "nbconvert_exporter": "python",
   "pygments_lexer": "ipython3",
   "version": "3.7.0"
  }
 },
 "nbformat": 4,
 "nbformat_minor": 2
}
