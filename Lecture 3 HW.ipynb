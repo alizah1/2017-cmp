{
 "cells": [
  {
   "cell_type": "code",
   "execution_count": 11,
   "metadata": {},
   "outputs": [
    {
     "data": {
      "image/png": "[encoded data removed]",
      "text/plain": [
       "<Figure size 432x288 with 1 Axes>"
      ]
     },
     "metadata": {
      "needs_background": "light"
     },
     "output_type": "display_data"
    }
   ],
   "source": [
    "#Houman Alizadeh\n",
    "#Lecture 3 Homework\n",
    "import matplotlib.ticker as mtick\n",
    "from sympy import *\n",
    "import matplotlib.pyplot as plt\n",
    "def Multiplicity(q_A):\n",
    "   # you can put 3000 and 2000 for N_A or N_B as well! \n",
    "    N_A = 300\n",
    "    N_B = 200\n",
    "    x_A = (factorial((int(q_A)+int(N_A)-1)))/(factorial(int(q_A))*factorial(int(N_A)-1))\n",
    "    x_B = (factorial((int(100-q_A)+int(N_B)-1)))/(factorial(int(100-q_A))*factorial(int(N_B)-1))\n",
    "    return x_A * x_B\n",
    "    #This gives me the total omega\n",
    "def Plot_M(q_A):\n",
    "    #The function will vary as q_A changes\n",
    "    N_series = range(q_A+1) \n",
    "    Omega = []\n",
    "    for n in N_series:\n",
    "        Omega.append(Multiplicity(n))\n",
    "    \n",
    "    plt.plot(N_series, Omega)\n",
    "    plt.title('N='+str(q_A))\n",
    "    plt.xlabel('q_A')\n",
    "    plt.ylabel('$\\Omega(n)$')\n",
    "   # The only thing that I couldn't try was to put all of the values of q_A in series.\n",
    "    plt.show()\n",
    "Plot_M(150)"
   ]
  },
  {
   "cell_type": "code",
   "execution_count": null,
   "metadata": {},
   "outputs": [],
   "source": []
  }
 ],
 "metadata": {
  "kernelspec": {
   "display_name": "Python 3",
   "language": "python",
   "name": "python3"
  },
  "language_info": {
   "codemirror_mode": {
    "name": "ipython",
    "version": 3
   },
   "file_extension": ".py",
   "mimetype": "text/x-python",
   "name": "python",
   "nbconvert_exporter": "python",
   "pygments_lexer": "ipython3",
   "version": "3.6.6"
  }
 },
 "nbformat": 4,
 "nbformat_minor": 2
}
