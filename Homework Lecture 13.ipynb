{
 "cells": [
  {
   "cell_type": "code",
   "execution_count": 32,
   "metadata": {},
   "outputs": [
    {
     "name": "stdout",
     "output_type": "stream",
     "text": [
      "27931\n",
      "2.7931 %\n"
     ]
    }
   ],
   "source": [
    "# Houman Alizadeh\n",
    "# Homework Lecture 13\n",
    "# Dice question\n",
    "import numpy as np\n",
    "import random as rd\n",
    "import matplotlib.pyplot as plt\n",
    "\n",
    "def Dice(N):\n",
    "\n",
    "    Dice_1 = np.random.randint(1,7,N) # N = number of rollings\n",
    "\n",
    "    Dice_2 = np.random.randint(1,7,N) # Let N be any positive integer \n",
    "\n",
    "    twelves = (Dice_1 == 6) & (Dice_2 == 6) # This allows us to only have double sixes\n",
    "        \n",
    "    Sum_12 = sum(twelves)\n",
    "\n",
    "# Number of twelves in 1 million tries:\n",
    "    print(Sum_12)\n",
    "    \n",
    "# Now the probability of getting twelves is:    \n",
    "    print(Sum_12/N * 100,\"%\")\n",
    "\n",
    "Dice(1000000)"
   ]
  },
  {
   "cell_type": "code",
   "execution_count": 55,
   "metadata": {},
   "outputs": [
    {
     "data": {
      "image/png": "[encoded data removed]",
      "text/plain": [
       "<Figure size 432x288 with 1 Axes>"
      ]
     },
     "metadata": {
      "needs_background": "light"
     },
     "output_type": "display_data"
    }
   ],
   "source": [
    "# We can only change [a , c , m]\n",
    "N = 100\n",
    "a = 57\n",
    "c = 287\n",
    "m = 11\n",
    "x = 1\n",
    "# This shows that a has to be in range 40<a<60 and c has to be in range of 200<c<300 for it to be somewhat random\n",
    "results = []\n",
    "\n",
    "for i in range(N):      \n",
    "    x = (a*x+c)%m\n",
    "    results.append(x)\n",
    "plt.plot(results,\"o\")\n",
    "plt.show()"
   ]
  },
  {
   "cell_type": "code",
   "execution_count": null,
   "metadata": {},
   "outputs": [],
   "source": []
  }
 ],
 "metadata": {
  "kernelspec": {
   "display_name": "Python 3",
   "language": "python",
   "name": "python3"
  },
  "language_info": {
   "codemirror_mode": {
    "name": "ipython",
    "version": 3
   },
   "file_extension": ".py",
   "mimetype": "text/x-python",
   "name": "python",
   "nbconvert_exporter": "python",
   "pygments_lexer": "ipython3",
   "version": "3.7.0"
  }
 },
 "nbformat": 4,
 "nbformat_minor": 2
}
