{
 "cells": [
  {
   "cell_type": "code",
   "execution_count": 1,
   "metadata": {},
   "outputs": [
    {
     "name": "stdout",
     "output_type": "stream",
     "text": [
      "The area of the shaded region when N = 100 is:  0.8922301528162412\n"
     ]
    }
   ],
   "source": [
    "# Houman Alizadeh \n",
    "# Homework Lecture 11\n",
    "# Monte Carlo Integration\n",
    "import numpy as np\n",
    "import matplotlib.pyplot as plt\n",
    "from scipy import random\n",
    "# a = the start value of x\n",
    "a = 0\n",
    "# b = the end value of x\n",
    "b = 1.695\n",
    "# N = number of random points generated\n",
    "N_1 = 100\n",
    "\n",
    "Random_Points_1 = np.zeros(N_1)\n",
    "\n",
    "for i in range(len(Random_Points_1)):\n",
    "    Random_Points_1[i]= random.uniform(a, b)\n",
    "    \n",
    "def Function(x):\n",
    "    return (1-(x-1)**2)**(1/2)-(2.0-np.sqrt(4-x**2)) # The function was approximated by me mathematically, so there could be some minor calculation error.\n",
    "\n",
    "# This states that the integral start from zero\n",
    "Integral = 0.0\n",
    "\n",
    "for i in range(N_1):\n",
    "    Integral += Function(Random_Points_1[i])\n",
    "    \n",
    "Result_1 = (b-a)/float(N_1)*Integral\n",
    "print(\"The area of the shaded region when N = 100 is: \", Result_1)"
   ]
  },
  {
   "cell_type": "code",
   "execution_count": 3,
   "metadata": {},
   "outputs": [
    {
     "name": "stdout",
     "output_type": "stream",
     "text": [
      "The area of the shaded region when N = 1000 is:  0.9605568701741996\n"
     ]
    }
   ],
   "source": [
    "# For N = 1000\n",
    "a = 0\n",
    "b = 1.695\n",
    "N_2 = 1000\n",
    "\n",
    "Random_Points_2 = np.zeros(N_2)\n",
    "\n",
    "for k in range(len(Random_Points_2)):\n",
    "    Random_Points_2[k]= random.uniform(a, b)\n",
    "    \n",
    "def Function(x):\n",
    "    return (1-(x-1)**2)**(1/2)-(2.0-np.sqrt(4-x**2))\n",
    "\n",
    "Integral = 0.0\n",
    "\n",
    "for k in range(N_2):\n",
    "    Integral += Function(Random_Points_2[k])\n",
    "    \n",
    "Result_2 = (b-a)/float(N_2)*Integral\n",
    "print(\"The area of the shaded region when N = 1000 is: \", Result_2)"
   ]
  },
  {
   "cell_type": "code",
   "execution_count": 4,
   "metadata": {},
   "outputs": [
    {
     "name": "stdout",
     "output_type": "stream",
     "text": [
      "The area of the shaded region when N = 10000 is:  0.9517809003250315\n"
     ]
    }
   ],
   "source": [
    "# For N = 10000\n",
    "a = 0\n",
    "b = 1.695\n",
    "N_3 = 10000\n",
    "\n",
    "Random_Points_3 = np.zeros(N_3)\n",
    "\n",
    "for j in range(len(Random_Points_3)):\n",
    "    Random_Points_3[j]= random.uniform(a, b)\n",
    "    \n",
    "def Function(x):\n",
    "    return (1-(x-1)**2)**(1/2)-(2.0-np.sqrt(4-x**2))\n",
    "\n",
    "Integral = 0.0\n",
    "\n",
    "for j in range(N_3):\n",
    "    Integral += Function(Random_Points_3[j])\n",
    "    \n",
    "Result_3 = (b-a)/float(N_3)*Integral\n",
    "print(\"The area of the shaded region when N = 10000 is: \", Result_3)"
   ]
  },
  {
   "cell_type": "code",
   "execution_count": 5,
   "metadata": {},
   "outputs": [
    {
     "name": "stdout",
     "output_type": "stream",
     "text": [
      "The area of the shaded region when N = 100000 is:  0.9524045715818819\n"
     ]
    }
   ],
   "source": [
    "# For N = 100000\n",
    "a = 0\n",
    "b = 1.695\n",
    "N_4 = 100000\n",
    "\n",
    "Random_Points_4 = np.zeros(N_4)\n",
    "\n",
    "for l in range(len(Random_Points_4)):\n",
    "    Random_Points_4[l]= random.uniform(a, b)\n",
    "    \n",
    "def Function(x):\n",
    "    return (1-(x-1)**2)**(1/2)-(2.0-np.sqrt(4-x**2))\n",
    "\n",
    "Integral = 0.0\n",
    "\n",
    "for l in range(N_4):\n",
    "    Integral += Function(Random_Points_4[l])\n",
    "    \n",
    "Result_4 = (b-a)/float(N_4)*Integral\n",
    "print(\"The area of the shaded region when N = 100000 is: \", Result_4)"
   ]
  },
  {
   "cell_type": "code",
   "execution_count": null,
   "metadata": {},
   "outputs": [],
   "source": []
  }
 ],
 "metadata": {
  "kernelspec": {
   "display_name": "Python 3",
   "language": "python",
   "name": "python3"
  },
  "language_info": {
   "codemirror_mode": {
    "name": "ipython",
    "version": 3
   },
   "file_extension": ".py",
   "mimetype": "text/x-python",
   "name": "python",
   "nbconvert_exporter": "python",
   "pygments_lexer": "ipython3",
   "version": "3.7.0"
  }
 },
 "nbformat": 4,
 "nbformat_minor": 2
}
