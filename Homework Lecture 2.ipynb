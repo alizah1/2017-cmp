{
 "cells": [
  {
   "cell_type": "code",
   "execution_count": 4,
   "metadata": {
    "scrolled": true
   },
   "outputs": [
    {
     "name": "stdout",
     "output_type": "stream",
     "text": [
      "x =  0\n",
      "x =  1\n",
      "x =  1\n",
      "x =  2\n",
      "x =  3\n",
      "x =  5\n",
      "x =  6765\n"
     ]
    }
   ],
   "source": [
    "#Fib stands for Fibonacci function\n",
    "def Fib(x):\n",
    "    if x == 0: return 0\n",
    "    elif x == 1: return 1\n",
    "    else: return Fib(x-1)+Fib(x-2)\n",
    "print(\"x = \",Fib(0))\n",
    "print(\"x = \",Fib(1))\n",
    "print(\"x = \",Fib(2))\n",
    "print(\"x = \",Fib(3))\n",
    "print(\"x = \",Fib(4))\n",
    "print(\"x = \",Fib(5))\n",
    "print(\"x = \",Fib(20))"
   ]
  },
  {
   "cell_type": "code",
   "execution_count": 21,
   "metadata": {},
   "outputs": [
    {
     "name": "stdout",
     "output_type": "stream",
     "text": [
      "Type in N value : 3\n",
      "Type in q value : 2\n",
      "Multiplicity =  6\n"
     ]
    }
   ],
   "source": [
    "from sympy import *\n",
    "def omega():\n",
    "    N = input(\"Type in N value : \")\n",
    "    q = input(\"Type in q value : \")\n",
    "\n",
    "    if 0 < int(N) <= 3 and int(q) >= 0:   \n",
    "        x = (factorial((int(q)+int(N) -1)))/(factorial(int(q))*factorial(int(N)-1))\n",
    "        print(\"Multiplicity = \",x)\n",
    "    else:    \n",
    "        print(\"N cannot be negative or zero \")\n",
    "        print(\"q cannot be negative\")\n",
    "omega()"
   ]
  },
  {
   "cell_type": "code",
   "execution_count": null,
   "metadata": {},
   "outputs": [],
   "source": []
  }
 ],
 "metadata": {
  "kernelspec": {
   "display_name": "Python 3",
   "language": "python",
   "name": "python3"
  },
  "language_info": {
   "codemirror_mode": {
    "name": "ipython",
    "version": 3
   },
   "file_extension": ".py",
   "mimetype": "text/x-python",
   "name": "python",
   "nbconvert_exporter": "python",
   "pygments_lexer": "ipython3",
   "version": "3.6.6"
  }
 },
 "nbformat": 4,
 "nbformat_minor": 2
}
