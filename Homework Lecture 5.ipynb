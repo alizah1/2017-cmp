{
 "cells": [
  {
   "cell_type": "code",
   "execution_count": 16,
   "metadata": {},
   "outputs": [
    {
     "data": {
      "image/png": "[encoded data removed]",
      "text/plain": [
       "<Figure size 432x288 with 1 Axes>"
      ]
     },
     "metadata": {
      "needs_background": "light"
     },
     "output_type": "display_data"
    },
    {
     "name": "stdout",
     "output_type": "stream",
     "text": [
      "The Area is:  0.892347069854365\n"
     ]
    },
    {
     "data": {
      "text/plain": [
       "0.892347069854365"
      ]
     },
     "execution_count": 16,
     "metadata": {},
     "output_type": "execute_result"
    }
   ],
   "source": [
    "# Houman Alizadeh\n",
    "# Homework Lecture 5\n",
    "\n",
    "# 1st way:\n",
    "import numpy as np\n",
    "import matplotlib.pyplot as plt\n",
    "import math\n",
    "# How to calculate the area below a curve:\n",
    "\n",
    "def Rectangular( a , b , parts):\n",
    "\n",
    "    f = lambda x: np.exp(-x**2)  \n",
    "    # np.exp is the numpy exponential function \n",
    "    deltax = ( b - a ) / parts\n",
    "   \n",
    "    resultsx = np.linspace( a , b , parts)\n",
    "    \n",
    "    resultsy = f(resultsx)\n",
    "    \n",
    "    Area = np.empty([parts])\n",
    "    for i in range(parts):\n",
    "            Area[i] = resultsy[i] * deltax\n",
    "    \n",
    "    x = np.linspace( a , b , 100 )\n",
    "    y = np.exp(-x**2)       \n",
    "    plt.plot(x, y,)\n",
    "    plt.xlim([ a , b ])\n",
    "    plt.bar(resultsx, resultsy, deltax, edgecolor ='black')\n",
    "    plt.show()\n",
    "    print(\"The Area is: \", sum(Area))\n",
    "    \n",
    "    return sum(Area)\n",
    "Rectangular(0 , 3 , 100)\n",
    "#The more rectangles, the more accurate answer we get"
   ]
  },
  {
   "cell_type": "code",
   "execution_count": 52,
   "metadata": {},
   "outputs": [
    {
     "data": {
      "image/png": "[encoded data removed]",
      "text/plain": [
       "<Figure size 432x288 with 1 Axes>"
      ]
     },
     "metadata": {
      "needs_background": "light"
     },
     "output_type": "display_data"
    },
    {
     "name": "stdout",
     "output_type": "stream",
     "text": [
      "The sum is:  0.8862071265209955\n"
     ]
    },
    {
     "data": {
      "text/plain": [
       "0.8862071265209955"
      ]
     },
     "execution_count": 52,
     "metadata": {},
     "output_type": "execute_result"
    }
   ],
   "source": [
    "#2nd way:\n",
    "import numpy as np\n",
    "import matplotlib.pyplot as plt\n",
    "\n",
    "def Trapezoidal( a , b , parts):\n",
    "\n",
    "    \n",
    "    f = lambda x: np.exp(-x**2) \n",
    "    \n",
    "\n",
    "    deltax = ( b - a ) / parts\n",
    "    resultsx = np.linspace( a , b , parts+1)\n",
    "    resultsy = f(resultsx)\n",
    "\n",
    "\n",
    "    Area = np.empty([parts])\n",
    "    for i in range(parts):\n",
    "            Area[i] = (resultsy[i]+resultsy[i+1]) * deltax/2\n",
    "\n",
    "            \n",
    "    x = np.linspace( a , b )\n",
    "    y = f(x)        \n",
    "    \n",
    "    plt.plot(x, y, 'r')\n",
    "        \n",
    "    z = np.array([0,0])\n",
    "    for i in range(parts):\n",
    "        x_0 = resultsx[i:i+2]\n",
    "        y_0 = resultsy[i:i+2]\n",
    "        plt.fill_between( x_0 , y_0, facecolor='blue')\n",
    "        linex, liney = [resultsx[i+1], resultsx[i+1]], [0, resultsy[i+1]]\n",
    "        plt.plot(linex, liney, color='black')        \n",
    "        \n",
    "    plt.show()\n",
    "    print(\"The sum is: \", sum(Area))\n",
    "    \n",
    "    return sum(Area)\n",
    "Trapezoidal(0,3,50)"
   ]
  },
  {
   "cell_type": "code",
   "execution_count": 53,
   "metadata": {},
   "outputs": [
    {
     "data": {
      "image/png": "[encoded data removed]",
      "text/plain": [
       "<Figure size 432x288 with 1 Axes>"
      ]
     },
     "metadata": {
      "needs_background": "light"
     },
     "output_type": "display_data"
    },
    {
     "name": "stdout",
     "output_type": "stream",
     "text": [
      "The Area is:  0.8862073481597857\n"
     ]
    },
    {
     "data": {
      "text/plain": [
       "0.8862073481597857"
      ]
     },
     "execution_count": 53,
     "metadata": {},
     "output_type": "execute_result"
    }
   ],
   "source": [
    "#3rd way:\n",
    "import numpy as np\n",
    "import matplotlib.pyplot as plt\n",
    "\n",
    "def Simpson( a , b , parts):\n",
    "   \n",
    "    f = lambda x: np.exp(-x**2) \n",
    "\n",
    "    deltax = ( b - a ) / parts\n",
    "    resultsx = np.linspace( a , b , parts+1)\n",
    "    resultsy = f(resultsx)\n",
    "\n",
    "    \n",
    "    Area = np.empty([parts+1])\n",
    "    for i in range(parts+1):\n",
    "        if i == 0 or i == parts:\n",
    "            coef = 1/3\n",
    "        elif i%2 == 1:\n",
    "            coef = 4/3\n",
    "        else: \n",
    "            coef = 2/3\n",
    "        Area[i] = coef*resultsy[i]*deltax\n",
    "    \n",
    "    x = np.linspace( a , b )\n",
    "    \n",
    "    y = np.exp(-x**2)       \n",
    "    \n",
    "    plt.plot(x, y)\n",
    "    \n",
    "    plt.fill_between( x , y, facecolor='pink')\n",
    "    \n",
    "    plt.show()\n",
    "    \n",
    "    print(\"The Area is: \", sum(Area))\n",
    "\n",
    "    return sum(Area)\n",
    "Simpson(0,3,100)"
   ]
  }
 ],
 "metadata": {
  "kernelspec": {
   "display_name": "Python 3",
   "language": "python",
   "name": "python3"
  },
  "language_info": {
   "codemirror_mode": {
    "name": "ipython",
    "version": 3
   },
   "file_extension": ".py",
   "mimetype": "text/x-python",
   "name": "python",
   "nbconvert_exporter": "python",
   "pygments_lexer": "ipython3",
   "version": "3.6.6"
  }
 },
 "nbformat": 4,
 "nbformat_minor": 2
}
