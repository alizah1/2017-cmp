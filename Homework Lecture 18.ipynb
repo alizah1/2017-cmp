{
 "cells": [
  {
   "cell_type": "code",
   "execution_count": 6,
   "metadata": {},
   "outputs": [
    {
     "name": "stderr",
     "output_type": "stream",
     "text": [
      "C:\\Users\\Patron\\AppData\\Local\\Continuum\\miniconda3\\lib\\site-packages\\ipykernel_launcher.py:36: DeprecationWarning: time.clock has been deprecated in Python 3.3 and will be removed from Python 3.8: use time.perf_counter or time.process_time instead\n"
     ]
    },
    {
     "name": "stdout",
     "output_type": "stream",
     "text": [
      "The time it costs is [22.904357603999983]\n"
     ]
    },
    {
     "name": "stderr",
     "output_type": "stream",
     "text": [
      "C:\\Users\\Patron\\AppData\\Local\\Continuum\\miniconda3\\lib\\site-packages\\ipykernel_launcher.py:38: DeprecationWarning: time.clock has been deprecated in Python 3.3 and will be removed from Python 3.8: use time.perf_counter or time.process_time instead\n"
     ]
    }
   ],
   "source": [
    "# Houman Alizadeh\n",
    "# Homework Lecture 18\n",
    "from scipy.optimize import minimize\n",
    "import numpy as np\n",
    "import time\n",
    "def LJ(r):\n",
    "    r6 = r**6\n",
    "    r12 = r6*r6\n",
    "    return 4*(1/r12 - 1/r6)\n",
    "\n",
    "def total_energy(positions):\n",
    "    E = 0\n",
    "    N_atom = int(len(positions)/3)\n",
    "    for i in range(N_atom-1):\n",
    "        for j in range(i+1, N_atom):\n",
    "            x_1 = positions[i*3:(i+1)*3]\n",
    "            x_2 = positions[j*3:(j+1)*3]\n",
    "            r = np.linalg.norm(x_1-x_2)\n",
    "            E += LJ(r)\n",
    "    return E\n",
    "            \n",
    "def init_pos(N, L=5):\n",
    "    return L*np.random.random_sample((3*N,))\n",
    "\n",
    "y = []\n",
    "x = []\n",
    "Attempts = 50\n",
    "N = 6\n",
    "def ground_state(N_atom):\n",
    "    for i in range(Attempts):\n",
    "        pos = init_pos(N_atom)\n",
    "        res = minimize(total_energy, pos, method='CG', tol=1e-4)\n",
    "        y.append(res.fun)\n",
    "        x.append(res.x)     \n",
    "times = []\n",
    "t1 = time.clock()\n",
    "ground_state(N)\n",
    "t2 = time.clock()\n",
    "times.append(t2 - t1)\n",
    "print(\"The time it costs is\", times)"
   ]
  },
  {
   "cell_type": "code",
   "execution_count": null,
   "metadata": {},
   "outputs": [],
   "source": []
  }
 ],
 "metadata": {
  "kernelspec": {
   "display_name": "Python 3",
   "language": "python",
   "name": "python3"
  },
  "language_info": {
   "codemirror_mode": {
    "name": "ipython",
    "version": 3
   },
   "file_extension": ".py",
   "mimetype": "text/x-python",
   "name": "python",
   "nbconvert_exporter": "python",
   "pygments_lexer": "ipython3",
   "version": "3.7.0"
  }
 },
 "nbformat": 4,
 "nbformat_minor": 2
}
