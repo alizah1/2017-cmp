{
 "cells": [
  {
   "cell_type": "code",
   "execution_count": 60,
   "metadata": {},
   "outputs": [],
   "source": [
    "#This was a function of integration that was built and I extracted to help me solve for the integration of Heat capacity.\n",
    "import numpy as np\n",
    "def gaussxw(N):\n",
    "\n",
    "    a = linspace(3,4*N-1,N)/(4*N+2)\n",
    "    x = cos(pi*a+1/(8*N*N*tan(a)))\n",
    "\n",
    "    epsilon = 1*10**-15\n",
    "    delta = 1.0\n",
    "    while delta>epsilon:\n",
    "        p0 = ones(N,float)\n",
    "        p1 = copy(x)\n",
    "        for k in range(1,N):\n",
    "            p0,p1 = p1,((2*k+1)*x*p1-k*p0)/(k+1)\n",
    "        dp = (N+1)*(p0-x*p1)/(1-x*x)\n",
    "        dx = p1/dp\n",
    "        x -= dx\n",
    "        delta = max(abs(dx))\n",
    "\n",
    "    w = 2*(N+1)*(N+1)/(N*N*(1-x*x)*dp*dp)\n",
    "    return x,w\n",
    "\n",
    "def gaussxwab(N,a,b):\n",
    "    x,w = gaussxw(N)\n",
    "    return 0.5*(b-a)*x+0.5*(b+a),0.5*(b-a)*w"
   ]
  },
  {
   "cell_type": "code",
   "execution_count": 67,
   "metadata": {},
   "outputs": [
    {
     "data": {
      "image/png": "[encoded data removed]",
      "text/plain": [
       "<Figure size 432x288 with 1 Axes>"
      ]
     },
     "metadata": {
      "needs_background": "light"
     },
     "output_type": "display_data"
    },
    {
     "data": {
      "text/plain": [
       "2163.8221970015443"
      ]
     },
     "execution_count": 67,
     "metadata": {},
     "output_type": "execute_result"
    }
   ],
   "source": [
    "# Houman Alizadeh\n",
    "# Homework Lecture 6\n",
    "import matplotlib . pyplot as plt\n",
    "import numpy as np\n",
    "\n",
    "def Integrand(x):\n",
    "    return x**4*exp(x)/(exp(x)-1)**2\n",
    "def Heat_Capacity(T):\n",
    "    Volume = 1*10**-3\n",
    "    Rho = 6.022*10**28 \n",
    "    k_B = 1.38065*10**-23 \n",
    "    theta_D = 428\n",
    "    Constant = 9*Volume*Rho*k_B*(T/theta_D)**3\n",
    "    a, b = 0.,theta_D/T\n",
    "    x_a ,y_b = gaussxwab(200,a,b)\n",
    "    # gaussxwab is the function defined on the first line\n",
    "    total = 0.\n",
    "    for k in range(200) :\n",
    "        total += y_b[k] * Integrand(x_a[k])\n",
    "    return Constant * total\n",
    "T = linspace(5,500,496)\n",
    "Result = [ ]\n",
    "for i in range(496):\n",
    "    Result.append(Heat_Capacity(T[i]))\n",
    "plt.plot(T,Result)\n",
    "plt.xlabel('Temperature [K]')\n",
    "plt.ylabel('Specific Heat [J/K]')\n",
    "plt.show()\n",
    "Heat_Capacity(250)"
   ]
  },
  {
   "cell_type": "code",
   "execution_count": null,
   "metadata": {},
   "outputs": [],
   "source": []
  }
 ],
 "metadata": {
  "kernelspec": {
   "display_name": "Python 3",
   "language": "python",
   "name": "python3"
  },
  "language_info": {
   "codemirror_mode": {
    "name": "ipython",
    "version": 3
   },
   "file_extension": ".py",
   "mimetype": "text/x-python",
   "name": "python",
   "nbconvert_exporter": "python",
   "pygments_lexer": "ipython3",
   "version": "3.7.0"
  }
 },
 "nbformat": 4,
 "nbformat_minor": 2
}
